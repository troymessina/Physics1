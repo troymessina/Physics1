{
  "cells": [
    {
      "metadata": {},
      "cell_type": "markdown",
      "source": "- - - -\n#  Numerical IntegrationTutorial\n\n\n- - - -\n\nMartin Veillette @ Berea College\n\n- - - -\n\n\n\n"
    },
    {
      "metadata": {},
      "cell_type": "markdown",
      "source": "There are several methods to integrate numerically: they go by different name: \n\n - Trapezium rule\n - Mid-point rule\n - Simpson's rule\n - Romberg integration\n - Gauss quadrature \n \nAll of these methods rely on breaking the interval of integration into many sub intervals.\n![image.png](attachment:image.png)\n\n\nThis tutorial explains how we can leverage the power of a computer to determine the integral using the mid-point rule ( also known as the rectangle rule)",
      "attachments": {
        "image.png": {
          "image/png": "[encoded data removed]"
        }
      }
    },
    {
      "metadata": {},
      "cell_type": "markdown",
      "source": "## Python Initialization with module imports"
    },
    {
      "metadata": {
        "collapsed": true,
        "trusted": false
      },
      "cell_type": "code",
      "source": "# setup \nimport numpy as np\nimport sympy as sp\nsp.init_printing(use_latex='mathjax')\n\nimport matplotlib.pyplot as plt\nplt.rcParams['figure.figsize'] = (12, 8)  # (width, height)\nplt.rcParams['font.size'] = 14\nplt.rcParams['legend.fontsize'] = 16\nfrom matplotlib import patches\n\n#get_ipython().magic('matplotlib')  # separate window\nget_ipython().magic('matplotlib inline') # inline plotting\n",
      "execution_count": 13,
      "outputs": []
    },
    {
      "metadata": {},
      "cell_type": "markdown",
      "source": "## Objective"
    },
    {
      "metadata": {},
      "cell_type": "markdown",
      "source": "We would like to evaluate an integral of the form\n$$ \\int_a^b f(x) dx $$\n\nwhere $f(x)= x^2 \\exp \\left(-  \\left(\\frac{x}{c}\\right)^2 \\right)  $ \n\nFor concreteness, let take $a=1, b=5, c= 3$"
    },
    {
      "metadata": {
        "collapsed": true,
        "trusted": false
      },
      "cell_type": "code",
      "source": "# define our function\n\ndef f(x):\n    c = 3\n    y= x**2 * np.exp(-(x/c)**2)\n    return  y",
      "execution_count": 15,
      "outputs": []
    },
    {
      "metadata": {
        "trusted": false
      },
      "cell_type": "code",
      "source": "# sanity check to see if our function returns a value\nf(3.2)",
      "execution_count": 16,
      "outputs": [
        {
          "data": {
            "text/latex": "$$3.2822325352$$",
            "text/plain": "3.2822325352"
          },
          "execution_count": 16,
          "metadata": {},
          "output_type": "execute_result"
        }
      ]
    },
    {
      "metadata": {},
      "cell_type": "markdown",
      "source": "## Plotting "
    },
    {
      "metadata": {
        "trusted": false
      },
      "cell_type": "code",
      "source": "# let's plot the function to have an idea of the region of integration\nx = np.arange(0, 10, 0.01)\ny = f(x)\nplt.plot(x,y);\nplt.axvline(x=a, color='k', linestyle='--')\nplt.axvline(x=b, color='k', linestyle='--')\nplt.xlabel('x')\nplt.ylabel('$f(x)$')\nplt.title('numerical integration example')\nplt.show()",
      "execution_count": 27,
      "outputs": [
        {
          "data": {
            "image/png": "[encoded data removed]",
            "text/plain": "<matplotlib.figure.Figure at 0x7fd05855e0f0>"
          },
          "metadata": {},
          "output_type": "display_data"
        }
      ]
    },
    {
      "metadata": {
        "collapsed": true,
        "trusted": false
      },
      "cell_type": "code",
      "source": "# we can divide the domain of integration in small interval (separating by the quantity name spacing)\n\nspacing = 0.001;\na=1;\nb=5;\n\nx = np.arange(a, b, spacing);\ny = f(x);",
      "execution_count": 40,
      "outputs": []
    },
    {
      "metadata": {
        "trusted": false
      },
      "cell_type": "code",
      "source": "integral = y.sum()*spacing\nprint('number of intervals',len(x))\nprint('result=', integral) ",
      "execution_count": 41,
      "outputs": [
        {
          "name": "stdout",
          "output_type": "stream",
          "text": "number of intervals 4000\nresult= 10.0323901036\n"
        }
      ]
    },
    {
      "metadata": {},
      "cell_type": "markdown",
      "source": "A more sophisticate approach uses the trapezoid rule to determine the area under the curve"
    }
  ],
  "metadata": {
    "anaconda-cloud": {},
    "kernelspec": {
      "name": "python36",
      "display_name": "Python 3.6",
      "language": "python"
    },
    "language_info": {
      "mimetype": "text/x-python",
      "nbconvert_exporter": "python",
      "name": "python",
      "pygments_lexer": "ipython3",
      "version": "3.6.6",
      "file_extension": ".py",
      "codemirror_mode": {
        "version": 3,
        "name": "ipython"
      }
    }
  },
  "nbformat": 4,
  "nbformat_minor": 1
}