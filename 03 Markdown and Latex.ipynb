{
  "cells": [
    {
      "metadata": {},
      "cell_type": "markdown",
      "source": "- - - -\n# Markdown and Latex Tutorial\n\n\n- - - -\n\nMartin Veillette @ Berea College\n\n- - - -\n"
    },
    {
      "metadata": {},
      "cell_type": "markdown",
      "source": "The aim of this tutorial is to teach you how to write comments in Markdown and Latex in Jupyter. \n\n - Markdown is a very popular mark up language that is used to tag text with plain text formatting. Unlike HTML, it is very easy to inline and it has become a defacto standard for documentation.\n\n - Latex is a typesetting language that is widely used in mathematics and science. Its ability to write equation in a linear fashion has made it the lingua franca of scientists. \n\n"
    },
    {
      "metadata": {},
      "cell_type": "markdown",
      "source": "\n# Markdown"
    },
    {
      "metadata": {},
      "cell_type": "markdown",
      "source": "This is intended as a quick reference to Markdown. John Gruber of Fireball fame first design the specs for the markdown language. Jupyter used a slightly flavored version from the original but the differences are minimal. "
    },
    {
      "metadata": {},
      "cell_type": "raw",
      "source": "It's very easy to make some words **bold** and other words *italic* with Markdown. You can even create links: [link to Google!](http://google.com)"
    },
    {
      "metadata": {},
      "cell_type": "markdown",
      "source": "It's very easy to make some words **bold** and other words *italic* with Markdown. You can even create links: [link to Google!](http://google.com)"
    },
    {
      "metadata": {},
      "cell_type": "raw",
      "source": "Sometimes you want numbered lists:\n\n1. One\n2. Two\n3. Three\n\nSometimes you want bullet points:\n\n* My First bullet Point\n* My second bullet Point\n\nAlternatively,\n\n- Dashes work just as well\n- And if you have sub points, put two spaces before the dash or star:\n  - Like this\n  - And this"
    },
    {
      "metadata": {},
      "cell_type": "markdown",
      "source": "Sometimes you want numbered lists:\n\n1. One\n2. Two\n3. Three\n\nSometimes you want bullet points:\n\n* My First bullet Point\n* My second bullet Point\n* My third bullet Point\n\nAlternatively,\n\n- Dashes work just as well\n- And if you have sub points, put two spaces before the dash or star:\n  - Like this\n  - And this"
    },
    {
      "metadata": {},
      "cell_type": "raw",
      "source": "# Structured documents\n\nSometimes it's useful to have different levels of headings to structure your documents. Start lines with a `#` to create headings. Multiple `##` in a row denote smaller heading sizes.\n\n## this is a second-tier heading\n\n### This is a third-tier heading\n\nYou can use one `#` all the way up to `######` six for different heading sizes.\n"
    },
    {
      "metadata": {},
      "cell_type": "markdown",
      "source": "# Structured documents\n\nSometimes it's useful to have different levels of headings to structure your documents. Start lines with a `#` to create headings. Multiple `##` in a row denote smaller heading sizes.\n\n## this is a second-tier heading\n\n### This is a third-tier heading\n\nYou can use one `#` all the way up to `######` six for different heading sizes.\n\n"
    },
    {
      "metadata": {},
      "cell_type": "raw",
      "source": "There are many different ways to style code in markdown. \nIf you have inline code blocks, wrap them in backticks: For instance ` b = np.sin(x) +2`.  If you've got a longer block of code, you can use three backticks:\n```\n# using numpy function arange\nx = np.arange(10)\nprint('x = ',x, 'as a',x.dtype)\n```"
    },
    {
      "metadata": {},
      "cell_type": "markdown",
      "source": "There are many different ways to style code in markdown. \nIf you have inline code blocks, wrap them in backticks: For instance ` b = np.sin(x) +2`.  If you've got a longer block of code, you can use three backticks:\n```\n# using numpy function arange\nx = np.arange(10)\nprint('x = ',x, 'as a',x.dtype)\n```\n    "
    },
    {
      "metadata": {},
      "cell_type": "markdown",
      "source": "# LaTeX"
    },
    {
      "metadata": {},
      "cell_type": "markdown",
      "source": "For the Jupyter notebook, we will used a subset of $\\LaTeX$ language, namely the mode that is devoted to typesetting mathematics. "
    },
    {
      "metadata": {},
      "cell_type": "markdown",
      "source": "$\\LaTeX$ markups are surrounded by ```$``` delimiters to show inline equations. Hence to write Einstein's famous equation, one type ```$E=mc^2$```. This yield the result $E=mc^2$. To write an equation that is not part of the text and therefore put on a separate line, you need to surround the expression by double dollar signs ```$$```. For instance ```$$E=mc^2$$```, becomes $$E=mc^2$$"
    },
    {
      "metadata": {},
      "cell_type": "markdown",
      "source": "This is an equation $$\\sqrt{\\alpha^2+\\beta^2}$$ i used blah blah\nand an integral is $\\int_0^{10} e^x dx$"
    },
    {
      "metadata": {},
      "cell_type": "markdown",
      "source": "The vast majority of equations can be written in $\\LaTeX$ by knowing just a few commands. For a more thorough coverage, you are invited to consult the $\\LaTeX$ documentation. For the purpose of this introduction, we will cover the mathematical modes that allows us to display  \n\n- subscripts and superscripts\n- fraction\n- greek letters\n- operators\n- vectors\n- square roots\n- integrals and sums\n"
    },
    {
      "metadata": {},
      "cell_type": "markdown",
      "source": "#### Subscripts and Superscripts\nThe caret ^ and underline _ are used to denote superscript and subscript. Therfore when surrounded with ```$$``` delimiters ```f_a(x)= x^2_a``` becomes $$f_a(x)= x^2_a.$$ You can use braces as delimiters ```x_{max}```, $$x_{max}$$"
    },
    {
      "metadata": {},
      "cell_type": "markdown",
      "source": "#### Fractions\nFractions are written as ```$$\\frac{a}{b}$$```, $$\\frac{a}{b}.$$ Hence the binomial expansion can be written as $$ \\binom{n}{k}= \\frac{n!}{k!(n-k)!}$$"
    },
    {
      "metadata": {},
      "cell_type": "markdown",
      "source": "#### Greek Letters\nThe greek symbols can be written with a backlash ```$$\\alpha, \\beta, \\gamma, \\delta$$``` becomes\n$$\\alpha, \\beta, \\gamma, \\delta. $$ Uppercase greek symbols are written a capital letter , eg ```$$\\Delta, \\Omega, \\Pi$$``` for $$\\Delta, \\Omega, \\Pi$$ "
    },
    {
      "metadata": {},
      "cell_type": "markdown",
      "source": "#### Operators\n\nFamiliar mathematical functions have an operator associated with them. For instance $$\\sin^2(x) = \\frac{1 - \\cos(2x)}{2}, $$ requires the command ```$$\\sin^2(x) = \\frac{1 - \\cos(2x)}{2}$$```. Common operators are ```\\ln, \\log, \\tan, \\arcsin```"
    },
    {
      "metadata": {},
      "cell_type": "markdown",
      "source": "#### Vectors\nNewton's famous equation $$\\vec{F} =m \\vec{a},$$ is typed as ``` $$\\vec{F} =m \\vec{a}$$ ```.\n\nThe dot and cross products are invoked with the command ```\\cdot``` and ```\\times```. This yields \n$$ \\vec{A}\\cdot\\vec{B} = A_x B_x + A_y B_y +A_z B_z $$ and\n$$ \\vec{A}\\times\\vec{B} = (A_z B_y + A_y B_z)  \\hat{i} + \\dots $$"
    },
    {
      "metadata": {},
      "cell_type": "markdown",
      "source": "\n#### Square Roots\n\nSquare roots such as $$c =\\sqrt{a^2+b^2}$$  are denoted as ``` $$c =\\sqrt{a^2+b^2}$$  ```\n\nCubic and higher roots can be indicated with an appropriate superscript\n$$c =\\sqrt[3]{a^2+b^2}$$  are denoted as ```$$c =\\sqrt[3]{a^2+b^2}$$ ```"
    },
    {
      "metadata": {},
      "cell_type": "markdown",
      "source": "#### Integrals and Sums\n\nIntegrals such as $$\\int e^{-x^2} dx , $$ $$f(x) = \\int_a^b x^2 dx $$ are written respectively as ``` $$\\int e^{-x^2} dx, ``` and ```$$f(x) = \\int_a^b x^2 dx $$``` whereas a sum such as $$ y= \\sum_{n=0}^\\infty \\frac{1}{n^2}$$ is written as ```$$ y= \\sum_{n=0}^\\infty \\frac{1}{n^2}$$```"
    },
    {
      "metadata": {},
      "cell_type": "markdown",
      "source": "2+3"
    },
    {
      "metadata": {},
      "cell_type": "markdown",
      "source": "$$\\sqrt{a^2+b^2}$$"
    },
    {
      "metadata": {
        "collapsed": true
      },
      "cell_type": "markdown",
      "source": "The second derivative is $\\frac{d^2f}{dt^2}$"
    },
    {
      "metadata": {
        "trusted": true
      },
      "cell_type": "code",
      "source": "",
      "execution_count": null,
      "outputs": []
    }
  ],
  "metadata": {
    "kernelspec": {
      "name": "python36",
      "display_name": "Python 3.6",
      "language": "python"
    },
    "language_info": {
      "mimetype": "text/x-python",
      "nbconvert_exporter": "python",
      "name": "python",
      "pygments_lexer": "ipython3",
      "version": "3.6.6",
      "file_extension": ".py",
      "codemirror_mode": {
        "version": 3,
        "name": "ipython"
      }
    }
  },
  "nbformat": 4,
  "nbformat_minor": 2
}