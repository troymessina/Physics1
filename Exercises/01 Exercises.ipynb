{
  "cells": [
    {
      "metadata": {},
      "cell_type": "markdown",
      "source": "## Exercise 01.1\n\nDegrees Fahrenheit ($T_F$) are converted to degrees Celsius ($T_c$) using the formula:\n\n$$\nT_c = 5(T_f - 32)/9\n$$\n\nWrite a program to convert 78 degrees Fahrenheit to degrees Celsius and print the result.\nWrite your program such that you can easily change the temperature in Fahrenheit that you are converting from.\n\nUse the variable name `T_c` for the temperature in degrees Celsius."
    },
    {
      "metadata": {
        "deletable": false,
        "nbgrader": {
          "checksum": "9aad06999d15d78fbcee70dcbca838c7",
          "grade": false,
          "grade_id": "cell-ca2d6af7fabf2918",
          "locked": false,
          "schema_version": 1,
          "solution": true
        },
        "trusted": true
      },
      "cell_type": "code",
      "source": "T_f = 78\n# YOUR CODE HERE\nraise NotImplementedError()",
      "execution_count": null,
      "outputs": []
    },
    {
      "metadata": {
        "deletable": false,
        "editable": false,
        "nbgrader": {
          "checksum": "298ddee2ca0d1dd09bc995505dac5c63",
          "grade": true,
          "grade_id": "cell-a7542313c8cdf4ed",
          "locked": true,
          "points": 0,
          "schema_version": 1,
          "solution": false
        },
        "trusted": true
      },
      "cell_type": "code",
      "source": "assert round(T_c - 25.55555555555555, 10) == 0.0",
      "execution_count": null,
      "outputs": []
    },
    {
      "metadata": {},
      "cell_type": "markdown",
      "source": "## Exercise 01.2\n\nWOrking with NASA, you have been tasked with developing a tool that predicts the trajectory of orbitals. A component is to compute the speed of objects in free fall for a range of scenarios.\n\nThe impact speed of an object depends on the height on the launched object, the initial velocity and the acceleration due to gravity. \nWrite a program that computes the impact speed, with variables for:\n\n1. Height (meter)\n1. Initial Velocity (meter/second)\n1. Acceleration (meter/second^2)\n\nTest your program with a height of 10m, upward velocity of 5m/s, and an acceleration due to gravity of 9.8 m/s^2.\nUse the variable name `impactSpeed` for the speed upon impact."
    },
    {
      "metadata": {
        "deletable": false,
        "nbgrader": {
          "checksum": "c26b7adb39cb9665b26873573b1f0a6c",
          "grade": false,
          "grade_id": "cell-aaab53918bb9627d",
          "locked": false,
          "schema_version": 1,
          "solution": true
        },
        "trusted": true
      },
      "cell_type": "code",
      "source": "# Assign data to variables\nacceleration = 9.8 \n\n# YOUR CODE HERE\nraise NotImplementedError()",
      "execution_count": null,
      "outputs": []
    },
    {
      "metadata": {
        "trusted": true
      },
      "cell_type": "code",
      "source": "assert round(impactSpeed - 14.866, 2) == 0.0",
      "execution_count": null,
      "outputs": []
    }
  ],
  "metadata": {
    "kernelspec": {
      "name": "python36",
      "display_name": "Python 3.6",
      "language": "python"
    },
    "language_info": {
      "mimetype": "text/x-python",
      "nbconvert_exporter": "python",
      "name": "python",
      "pygments_lexer": "ipython3",
      "version": "3.6.6",
      "file_extension": ".py",
      "codemirror_mode": {
        "version": 3,
        "name": "ipython"
      }
    }
  },
  "nbformat": 4,
  "nbformat_minor": 2
}