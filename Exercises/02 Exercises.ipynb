{
  "cells": [
    {
      "metadata": {},
      "cell_type": "markdown",
      "source": "## Exercise 02.1 (if-else)\n\nConsider the following assessment criteria which map a score out of 100 to an \nassessment grade:\n\n| Grade            | Raw score  (/100)      |\n| ---------------- | ---------------------- |\n| Excellent        | $\\ge 92$               |\n| Very good        | $\\ge 86.5$ and $< 92$  |\n| Good             | $\\ge 76$ and $< 86.5$  |\n| Need improvement | $\\ge 60$ and $< 76$    |\n| Did you try?     | $< 60$                 |\n\nWrite a program that, given an a score, prints the appropriate grade. Print an error message if the input score is greater than 100 or less than zero."
    },
    {
      "metadata": {
        "deletable": false,
        "nbgrader": {
          "checksum": "a514c1218467051dab6b6e4fa054bc90",
          "grade": false,
          "grade_id": "cell-71121f470be22e4a",
          "locked": false,
          "schema_version": 1,
          "solution": true
        },
        "trusted": false
      },
      "cell_type": "code",
      "source": "# YOUR CODE HERE\nraise NotImplementedError()",
      "execution_count": null,
      "outputs": []
    },
    {
      "metadata": {},
      "cell_type": "markdown",
      "source": "## Exercise 02.2 (bisection)\n\nBisection is an iterative method for finding approximate roots of a function. Say we know that the function $f(x)$ has one root between $x_{0}$ and $x_{1}$ ($x_{0} < x_{1}$). We then:\n\n- Evaluate $f$ at the midpoint $x_{\\rm mid} = (x_0 + x_1)/2$, i.e. compute\n   $f_{\\rm mid} = f(x_{\\rm mid})$\n- Evaluate $f(x_0) \\cdot f(x_{\\rm mid})$\n\n  - If $f(x_0) \\cdot f(x_{\\rm mid}) < 0$: \n\n    $f$ must change sign somewhere between $x_0$ and $x_{\\rm mid}$, hence the root must lie between \n    $x_0$ and $x_{\\rm mid}$, so set $x_1 = x_{\\rm mid}$.\n   \n  - Else\n\n    $f$ must change sign somewhere between $x_{\\rm mid}$ and $x_1$, so set\n    $x_0 = x_{\\rm mid}$.\n\nThe above steps can be repeated a specified number of times, or until $|f_{\\rm mid}|$\nis below a tolerance, with $x_{\\rm mid}$ being the approximate root.\n\n\n### Task\n\nThe function\n\n$$\nf(x) = x^3 - 6x^2 + 4x + 12\n$$\n\nhas one root somewhere between $x_0 = 3$ and $x_1 = 6$.\n\n1. Use the bisection method to find an approximate root $x_{r}$ using 15 iterations \n   (use a `for` loop).\n2. Use the bisection method to find an approximate root $x_{r}$ such that \n   $\\left| f(x_{r}) \\right| < 1 \\times 10^{-6}$ and report the number of iterations \n   required (use a `while` loop).\n\nStore the approximate root using the variable `x_mid`, and store $f(x_{\\rm mid})$ using the variable `f`.\n\n*Hint:* Use  `abs` to compute the absolute value of a number, e.g. `y = abs(x)` assigns the absolute value of `x` to `y`. "
    },
    {
      "metadata": {},
      "cell_type": "markdown",
      "source": "#### (1) Using a `for` loop."
    },
    {
      "metadata": {
        "deletable": false,
        "nbgrader": {
          "checksum": "ee3cd280d0ab20bacff2198885db439f",
          "grade": false,
          "grade_id": "cell-3a0d0a59613d6b3f",
          "locked": false,
          "schema_version": 1,
          "solution": true
        },
        "trusted": false
      },
      "cell_type": "code",
      "source": "# Initial end points\nx0 = 3.0\nx1 = 6.0\n\n# Use 15 iterations\nfor n in range(15):\n    # Compute midpoint\n    x_mid = (x0 + x1)/2\n\n    # Evaluate function at left end-point and at midpoint\n    f0 = x0**3 - 6*x0**2 + 4*x0 + 12\n    f = x_mid**3 - 6*x_mid**2 + 4*x_mid + 12\n    \n    # YOUR CODE HERE\n    raise NotImplementedError()\n\n    print(n, x_mid, f)",
      "execution_count": null,
      "outputs": []
    },
    {
      "metadata": {
        "deletable": false,
        "editable": false,
        "nbgrader": {
          "checksum": "300a5759e0f5b564a00fa0e9acee6f68",
          "grade": true,
          "grade_id": "cell-421824bbd4e61fae",
          "locked": true,
          "points": 0,
          "schema_version": 1,
          "solution": false
        },
        "trusted": false
      },
      "cell_type": "code",
      "source": "assert round(x_mid - 4.534149169921875, 10) == 0.0\nassert abs(f) < 0.0009",
      "execution_count": null,
      "outputs": []
    },
    {
      "metadata": {},
      "cell_type": "markdown",
      "source": "#### (2) Using a `while` loop\n\nUse the variable `counter` for the iteration number. \n\n*Remember to guard against infinite loops.*"
    },
    {
      "metadata": {
        "deletable": false,
        "nbgrader": {
          "checksum": "cc52d8a36b886950be06af5bfa258206",
          "grade": false,
          "grade_id": "cell-1747a3fb1dd1de48",
          "locked": false,
          "schema_version": 1,
          "solution": true
        },
        "trusted": false
      },
      "cell_type": "code",
      "source": "# Initial end points\nx0 = 3.0\nx1 = 6.0\n\ntol = 1.0e-6\nerror = tol + 1.0\n\n# Iterate until tolerance is met\ncounter = 0\nwhile error > tol:\n    # YOUR CODE HERE\n    raise NotImplementedError()\n\n    # Guard against an infinite loop\n    if counter > 1000:\n        print(\"Oops, iteration count is very large. Breaking out of while loop.\")\n        break\n    \n    print(counter, x_mid, error)",
      "execution_count": null,
      "outputs": []
    },
    {
      "metadata": {
        "deletable": false,
        "editable": false,
        "nbgrader": {
          "checksum": "5604f410d2134838760ac580a9b40f73",
          "grade": true,
          "grade_id": "cell-ddff32f44df88388",
          "locked": true,
          "points": 0,
          "schema_version": 1,
          "solution": false
        },
        "trusted": false
      },
      "cell_type": "code",
      "source": "assert counter == 23\nassert abs(f) < 1.0e-6",
      "execution_count": null,
      "outputs": []
    },
    {
      "metadata": {
        "collapsed": true
      },
      "cell_type": "markdown",
      "source": "## Exercise 02.3 (series expansion)\n\nThe power series expansion for the sine function is: \n\n$$\n\\sin(x) = \\sum_{n = 0}^{\\infty} (-1)^n \\frac{x^{2n +1}}{(2n+1)!}\n$$\n\n(You may have seen this power expansion under a different form but this compact version is preferred here as it is simpler to program.)\n\n1. Using a `for` statement, approximate $\\sin(3\\pi/2)$ using 15 terms in the series expansion and report the absolute error.\n\n1. Using a `while` statement, compute how many terms in the series are required to approximate $\\sin(3\\pi/2)$ to within $1 \\times 10^{-8}$. \n\nStore the absolute value of the error in the variable `error`.\n\n*Note:* Calculators and computers use iterative or series expansions to compute trigonometric functions, similar to the one above (although they use more efficient formulations than the above series).\n\n### Hints\n\nTo compute the factorial and to get a good approximation of $\\pi$, use the Python `math` module:\n```python\nimport math\nnfact = math.factorial(10)\npi = math.pi\n```\nYou only need '`import math`' once at the top of your program. Standard modules, like `math`, will be explained in a later. If you want to test for angles for which sine is not simple, you can use \n```python\na = 1.3\ns = math.sin(a)\n```    \nto get an accurate computation of sine to check the error."
    },
    {
      "metadata": {},
      "cell_type": "markdown",
      "source": "#### (1) Using a `for` loop"
    },
    {
      "metadata": {
        "deletable": false,
        "nbgrader": {
          "checksum": "105cfce8eabbd37a7afaee8203d6bd3b",
          "grade": false,
          "grade_id": "cell-d6df4b428f969a5d",
          "locked": false,
          "schema_version": 1,
          "solution": true
        },
        "trusted": false
      },
      "cell_type": "code",
      "source": "# Import the math module to access math.sin and math.factorial\nimport math\n\n# Value at which to approximate sine\nx = 1.5*math.pi\n\n# Initialise approximation of sine\napprox_sin = 0.0\n\n# YOUR CODE HERE\nraise NotImplementedError()\n    \nprint(\"The error is:\")\nprint(error)",
      "execution_count": null,
      "outputs": []
    },
    {
      "metadata": {
        "deletable": false,
        "editable": false,
        "nbgrader": {
          "checksum": "e96bb82c27a0c914a648526edbe13d26",
          "grade": true,
          "grade_id": "cell-8b269b717e92414d",
          "locked": true,
          "points": 0,
          "schema_version": 1,
          "solution": false
        },
        "trusted": false
      },
      "cell_type": "code",
      "source": "assert error < 1.0e-12",
      "execution_count": null,
      "outputs": []
    },
    {
      "metadata": {},
      "cell_type": "markdown",
      "source": "#### (2) Using a `while` loop\n\n*Remember to guard against infinite loops.*"
    },
    {
      "metadata": {
        "deletable": false,
        "nbgrader": {
          "checksum": "f7c4320acbc1a64d9d8423de7111714b",
          "grade": false,
          "grade_id": "cell-03df25d83df3674e",
          "locked": false,
          "schema_version": 1,
          "solution": true
        },
        "trusted": false
      },
      "cell_type": "code",
      "source": "# Import the math module to access math.sin and math.factorial\nimport math\n\n# Value at which to approximate sine\nx = 1.5*math.pi\n\n# Tolerance and initial error (this just needs to be larger than tol)\ntol = 1.0e-8\nerror = tol + 1.0\n\n# Intialise approximation of sine\napprox_sin = 0.0\n\n# Initialise counter\nn = 0\n\n# Loop until error satisfies tolerance, with a check to avoid \n# an infinite loop\nwhile error > tol and n < 1000:\n    \n    # YOUR CODE HERE\n    raise NotImplementedError()\n    \n    # Increment counter\n    n += 1    \n    \n    \nprint(\"The error is:\")\nprint(error)\n\nprint(\"Number of terms in series:\")\nprint(n)",
      "execution_count": null,
      "outputs": []
    },
    {
      "metadata": {
        "deletable": false,
        "editable": false,
        "nbgrader": {
          "checksum": "7e9cf956faf5c223affc2cc9a50d4cf5",
          "grade": true,
          "grade_id": "cell-03df25d83df3674dfwe",
          "locked": true,
          "points": 0,
          "schema_version": 1,
          "solution": false
        },
        "trusted": false
      },
      "cell_type": "code",
      "source": "assert error <= 1.0e-8",
      "execution_count": null,
      "outputs": []
    }
  ],
  "metadata": {
    "kernelspec": {
      "name": "python3",
      "display_name": "Python 3",
      "language": "python"
    },
    "language_info": {
      "mimetype": "text/x-python",
      "nbconvert_exporter": "python",
      "name": "python",
      "file_extension": ".py",
      "version": "3.5.4",
      "pygments_lexer": "ipython3",
      "codemirror_mode": {
        "version": 3,
        "name": "ipython"
      }
    }
  },
  "nbformat": 4,
  "nbformat_minor": 1
}